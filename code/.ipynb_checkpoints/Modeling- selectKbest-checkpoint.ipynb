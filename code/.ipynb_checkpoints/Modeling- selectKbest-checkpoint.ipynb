{
 "cells": [
  {
   "cell_type": "markdown",
   "metadata": {},
   "source": [
    "## Pre-processing and Training Data Development\n",
    "This is the forth step in the Data Science Method. In this exercise, you will build the data inorder to fit models\n",
    "**The Data Science Method**  \n",
    "\n",
    "\n",
    "1.   Problem Identification \n",
    "\n",
    "2.   Data Wrangling \n",
    "  * Data Collection \n",
    "   * Data Organization\n",
    "  * Data Definition \n",
    "  * Data Cleaning\n",
    "  * Outliers\n",
    " \n",
    "3.   Exploratory Data Analysis \n",
    " * Build data profile tables and plots\n",
    "        - Outliers & Anomalies\n",
    " * Explore data relationships\n",
    " * Identification and creation of features\n",
    "\n",
    "4.   Pre-processing and Training Data Development\n",
    "  * Create dummy or indicator features for categorical variables\n",
    "  * Standardize the magnitude of numeric features\n",
    "  * Split into testing and training datasets\n",
    "  * Apply scaler to the testing set\n",
    "5.   **Modeling**\n",
    "  * Fit Models with Training Data Set\n",
    "  * Review Model Outcomes — Iterate over additional models as needed.\n",
    "  * Identify the Final Model\n",
    "\n",
    "6.   Documentation\n",
    "  * Review the Results\n",
    "  * Present and share your findings - storytelling\n",
    "  * Finalize Code \n",
    "  * Finalize Documentation"
   ]
  },
  {
   "cell_type": "code",
   "execution_count": 1,
   "metadata": {},
   "outputs": [],
   "source": [
    "#load python packages\n",
    "import os\n",
    "import pandas as pd\n",
    "import datetime\n",
    "import seaborn as sns\n",
    "import matplotlib.pyplot as plt\n",
    "import numpy as np\n",
    "import category_encoders as ce\n",
    "from sklearn.preprocessing import StandardScaler, PowerTransformer\n",
    "from sklearn.model_selection import train_test_split\n",
    "\n",
    "%matplotlib inline"
   ]
  },
  {
   "cell_type": "markdown",
   "metadata": {},
   "source": [
    "### Load clean data from previous step\n",
    "\n",
    "Also check data type and sync it based on analysis on previous step"
   ]
  },
  {
   "cell_type": "markdown",
   "metadata": {},
   "source": [
    "<img src = 'Data_desc.png'>"
   ]
  },
  {
   "cell_type": "markdown",
   "metadata": {},
   "source": [
    "<img src = 'Data_desc_cat.png'>"
   ]
  },
  {
   "cell_type": "code",
   "execution_count": 2,
   "metadata": {},
   "outputs": [
    {
     "data": {
      "text/html": [
       "<div>\n",
       "<style scoped>\n",
       "    .dataframe tbody tr th:only-of-type {\n",
       "        vertical-align: middle;\n",
       "    }\n",
       "\n",
       "    .dataframe tbody tr th {\n",
       "        vertical-align: top;\n",
       "    }\n",
       "\n",
       "    .dataframe thead th {\n",
       "        text-align: right;\n",
       "    }\n",
       "</style>\n",
       "<table border=\"1\" class=\"dataframe\">\n",
       "  <thead>\n",
       "    <tr style=\"text-align: right;\">\n",
       "      <th></th>\n",
       "      <th>Administrative</th>\n",
       "      <th>Administrative_Duration</th>\n",
       "      <th>Informational</th>\n",
       "      <th>Informational_Duration</th>\n",
       "      <th>ProductRelated</th>\n",
       "      <th>ProductRelated_Duration</th>\n",
       "      <th>BounceRates</th>\n",
       "      <th>ExitRates</th>\n",
       "      <th>PageValues</th>\n",
       "      <th>SpecialDay</th>\n",
       "      <th>Month</th>\n",
       "      <th>OperatingSystems</th>\n",
       "      <th>Browser</th>\n",
       "      <th>Region</th>\n",
       "      <th>TrafficType</th>\n",
       "      <th>VisitorType</th>\n",
       "      <th>Weekend</th>\n",
       "      <th>Revenue</th>\n",
       "    </tr>\n",
       "  </thead>\n",
       "  <tbody>\n",
       "    <tr>\n",
       "      <th>0</th>\n",
       "      <td>0</td>\n",
       "      <td>0.0</td>\n",
       "      <td>0</td>\n",
       "      <td>0.0</td>\n",
       "      <td>1</td>\n",
       "      <td>0.000000</td>\n",
       "      <td>0.20</td>\n",
       "      <td>0.20</td>\n",
       "      <td>0.0</td>\n",
       "      <td>0.0</td>\n",
       "      <td>Feb</td>\n",
       "      <td>1</td>\n",
       "      <td>1</td>\n",
       "      <td>1</td>\n",
       "      <td>1</td>\n",
       "      <td>Returning_Visitor</td>\n",
       "      <td>False</td>\n",
       "      <td>False</td>\n",
       "    </tr>\n",
       "    <tr>\n",
       "      <th>1</th>\n",
       "      <td>0</td>\n",
       "      <td>0.0</td>\n",
       "      <td>0</td>\n",
       "      <td>0.0</td>\n",
       "      <td>2</td>\n",
       "      <td>64.000000</td>\n",
       "      <td>0.00</td>\n",
       "      <td>0.10</td>\n",
       "      <td>0.0</td>\n",
       "      <td>0.0</td>\n",
       "      <td>Feb</td>\n",
       "      <td>2</td>\n",
       "      <td>2</td>\n",
       "      <td>1</td>\n",
       "      <td>2</td>\n",
       "      <td>Returning_Visitor</td>\n",
       "      <td>False</td>\n",
       "      <td>False</td>\n",
       "    </tr>\n",
       "    <tr>\n",
       "      <th>2</th>\n",
       "      <td>0</td>\n",
       "      <td>-1.0</td>\n",
       "      <td>0</td>\n",
       "      <td>-1.0</td>\n",
       "      <td>1</td>\n",
       "      <td>-1.000000</td>\n",
       "      <td>0.20</td>\n",
       "      <td>0.20</td>\n",
       "      <td>0.0</td>\n",
       "      <td>0.0</td>\n",
       "      <td>Feb</td>\n",
       "      <td>4</td>\n",
       "      <td>1</td>\n",
       "      <td>9</td>\n",
       "      <td>3</td>\n",
       "      <td>Returning_Visitor</td>\n",
       "      <td>False</td>\n",
       "      <td>False</td>\n",
       "    </tr>\n",
       "    <tr>\n",
       "      <th>3</th>\n",
       "      <td>0</td>\n",
       "      <td>0.0</td>\n",
       "      <td>0</td>\n",
       "      <td>0.0</td>\n",
       "      <td>2</td>\n",
       "      <td>2.666667</td>\n",
       "      <td>0.05</td>\n",
       "      <td>0.14</td>\n",
       "      <td>0.0</td>\n",
       "      <td>0.0</td>\n",
       "      <td>Feb</td>\n",
       "      <td>3</td>\n",
       "      <td>2</td>\n",
       "      <td>2</td>\n",
       "      <td>4</td>\n",
       "      <td>Returning_Visitor</td>\n",
       "      <td>False</td>\n",
       "      <td>False</td>\n",
       "    </tr>\n",
       "    <tr>\n",
       "      <th>4</th>\n",
       "      <td>0</td>\n",
       "      <td>0.0</td>\n",
       "      <td>0</td>\n",
       "      <td>0.0</td>\n",
       "      <td>10</td>\n",
       "      <td>627.500000</td>\n",
       "      <td>0.02</td>\n",
       "      <td>0.05</td>\n",
       "      <td>0.0</td>\n",
       "      <td>0.0</td>\n",
       "      <td>Feb</td>\n",
       "      <td>3</td>\n",
       "      <td>3</td>\n",
       "      <td>1</td>\n",
       "      <td>4</td>\n",
       "      <td>Returning_Visitor</td>\n",
       "      <td>True</td>\n",
       "      <td>False</td>\n",
       "    </tr>\n",
       "  </tbody>\n",
       "</table>\n",
       "</div>"
      ],
      "text/plain": [
       "   Administrative  Administrative_Duration  Informational  \\\n",
       "0               0                      0.0              0   \n",
       "1               0                      0.0              0   \n",
       "2               0                     -1.0              0   \n",
       "3               0                      0.0              0   \n",
       "4               0                      0.0              0   \n",
       "\n",
       "   Informational_Duration  ProductRelated  ProductRelated_Duration  \\\n",
       "0                     0.0               1                 0.000000   \n",
       "1                     0.0               2                64.000000   \n",
       "2                    -1.0               1                -1.000000   \n",
       "3                     0.0               2                 2.666667   \n",
       "4                     0.0              10               627.500000   \n",
       "\n",
       "   BounceRates  ExitRates  PageValues  SpecialDay Month  OperatingSystems  \\\n",
       "0         0.20       0.20         0.0         0.0   Feb                 1   \n",
       "1         0.00       0.10         0.0         0.0   Feb                 2   \n",
       "2         0.20       0.20         0.0         0.0   Feb                 4   \n",
       "3         0.05       0.14         0.0         0.0   Feb                 3   \n",
       "4         0.02       0.05         0.0         0.0   Feb                 3   \n",
       "\n",
       "   Browser  Region  TrafficType        VisitorType  Weekend  Revenue  \n",
       "0        1       1            1  Returning_Visitor    False    False  \n",
       "1        2       1            2  Returning_Visitor    False    False  \n",
       "2        1       9            3  Returning_Visitor    False    False  \n",
       "3        2       2            4  Returning_Visitor    False    False  \n",
       "4        3       1            4  Returning_Visitor     True    False  "
      ]
     },
     "execution_count": 2,
     "metadata": {},
     "output_type": "execute_result"
    }
   ],
   "source": [
    "path = 'C:/Users/sanja/Jupyter Code/Git Hub/Online-Shopper-Intention-Capstone/'\n",
    "filename = 'data/clean_data2.csv'\n",
    "df = pd.read_csv(path+filename)\n",
    "df.head()"
   ]
  },
  {
   "cell_type": "code",
   "execution_count": 3,
   "metadata": {},
   "outputs": [
    {
     "name": "stdout",
     "output_type": "stream",
     "text": [
      "<class 'pandas.core.frame.DataFrame'>\n",
      "RangeIndex: 11233 entries, 0 to 11232\n",
      "Data columns (total 18 columns):\n",
      " #   Column                   Non-Null Count  Dtype  \n",
      "---  ------                   --------------  -----  \n",
      " 0   Administrative           11233 non-null  int64  \n",
      " 1   Administrative_Duration  11233 non-null  float64\n",
      " 2   Informational            11233 non-null  int64  \n",
      " 3   Informational_Duration   11233 non-null  float64\n",
      " 4   ProductRelated           11233 non-null  int64  \n",
      " 5   ProductRelated_Duration  11233 non-null  float64\n",
      " 6   BounceRates              11233 non-null  float64\n",
      " 7   ExitRates                11233 non-null  float64\n",
      " 8   PageValues               11233 non-null  float64\n",
      " 9   SpecialDay               11233 non-null  float64\n",
      " 10  Month                    11233 non-null  object \n",
      " 11  OperatingSystems         11233 non-null  int64  \n",
      " 12  Browser                  11233 non-null  int64  \n",
      " 13  Region                   11233 non-null  int64  \n",
      " 14  TrafficType              11233 non-null  int64  \n",
      " 15  VisitorType              11233 non-null  object \n",
      " 16  Weekend                  11233 non-null  bool   \n",
      " 17  Revenue                  11233 non-null  bool   \n",
      "dtypes: bool(2), float64(7), int64(7), object(2)\n",
      "memory usage: 1.4+ MB\n"
     ]
    }
   ],
   "source": [
    "#DataFrame dtype info\n",
    "df.info()"
   ]
  },
  {
   "cell_type": "markdown",
   "metadata": {},
   "source": [
    "## Dealing with Categorical Variables"
   ]
  },
  {
   "cell_type": "code",
   "execution_count": 4,
   "metadata": {},
   "outputs": [
    {
     "name": "stdout",
     "output_type": "stream",
     "text": [
      "['Month', 'OperatingSystems', 'Browser', 'Region', 'TrafficType', 'VisitorType']\n"
     ]
    }
   ],
   "source": [
    "cat_name = ['Month', 'OperatingSystems', 'Browser', 'Region', 'TrafficType','VisitorType']\n",
    "print(cat_name)"
   ]
  },
  {
   "cell_type": "code",
   "execution_count": 5,
   "metadata": {},
   "outputs": [
    {
     "name": "stdout",
     "output_type": "stream",
     "text": [
      "Month 10\n",
      "May     3166\n",
      "Nov     2524\n",
      "Mar     1790\n",
      "Dec     1597\n",
      "Oct      507\n",
      "Sep      412\n",
      "Aug      398\n",
      "Jul      398\n",
      "June     262\n",
      "Feb      179\n",
      "Name: Month, dtype: int64\n",
      "OperatingSystems 8\n",
      "2    5849\n",
      "1    2453\n",
      "3    2389\n",
      "4     439\n",
      "8      73\n",
      "6      18\n",
      "7       6\n",
      "5       6\n",
      "Name: OperatingSystems, dtype: int64\n",
      "Browser 13\n",
      "2     7139\n",
      "1     2323\n",
      "4      679\n",
      "5      429\n",
      "6      166\n",
      "10     145\n",
      "8      133\n",
      "3      104\n",
      "13      54\n",
      "7       44\n",
      "12      10\n",
      "11       6\n",
      "9        1\n",
      "Name: Browser, dtype: int64\n",
      "Region 9\n",
      "1    4280\n",
      "3    2200\n",
      "4    1090\n",
      "2    1047\n",
      "6     747\n",
      "7     708\n",
      "9     470\n",
      "8     401\n",
      "5     290\n",
      "Name: Region, dtype: int64\n",
      "TrafficType 20\n",
      "2     3493\n",
      "1     2160\n",
      "3     1921\n",
      "4     1020\n",
      "13     660\n",
      "6      413\n",
      "10     413\n",
      "8      321\n",
      "5      251\n",
      "11     239\n",
      "20     187\n",
      "9       40\n",
      "7       38\n",
      "15      35\n",
      "19      16\n",
      "14      11\n",
      "18      10\n",
      "16       3\n",
      "12       1\n",
      "17       1\n",
      "Name: TrafficType, dtype: int64\n",
      "VisitorType 3\n",
      "Returning_Visitor    9481\n",
      "New_Visitor          1674\n",
      "Other                  78\n",
      "Name: VisitorType, dtype: int64\n"
     ]
    }
   ],
   "source": [
    "for i in cat_name:\n",
    "    print(i, df[i].nunique())\n",
    "    print(df[i].value_counts())"
   ]
  },
  {
   "cell_type": "code",
   "execution_count": 6,
   "metadata": {},
   "outputs": [
    {
     "name": "stdout",
     "output_type": "stream",
     "text": [
      "Index(['Administrative', 'Administrative_Duration', 'Informational',\n",
      "       'Informational_Duration', 'ProductRelated', 'ProductRelated_Duration',\n",
      "       'BounceRates', 'ExitRates', 'PageValues', 'SpecialDay', 'Weekend',\n",
      "       'Revenue', 'Month_Aug', 'Month_Dec', 'Month_Feb', 'Month_Jul',\n",
      "       'Month_June', 'Month_Mar', 'Month_May', 'Month_Nov', 'Month_Oct',\n",
      "       'Month_Sep', 'OperatingSystems_1', 'OperatingSystems_2',\n",
      "       'OperatingSystems_3', 'OperatingSystems_4', 'OperatingSystems_5',\n",
      "       'OperatingSystems_6', 'OperatingSystems_7', 'OperatingSystems_8',\n",
      "       'Browser_1', 'Browser_2', 'Browser_3', 'Browser_4', 'Browser_5',\n",
      "       'Browser_6', 'Browser_7', 'Browser_8', 'Browser_9', 'Browser_10',\n",
      "       'Browser_11', 'Browser_12', 'Browser_13', 'Region_1', 'Region_2',\n",
      "       'Region_3', 'Region_4', 'Region_5', 'Region_6', 'Region_7', 'Region_8',\n",
      "       'Region_9', 'TrafficType_1', 'TrafficType_2', 'TrafficType_3',\n",
      "       'TrafficType_4', 'TrafficType_5', 'TrafficType_6', 'TrafficType_7',\n",
      "       'TrafficType_8', 'TrafficType_9', 'TrafficType_10', 'TrafficType_11',\n",
      "       'TrafficType_12', 'TrafficType_13', 'TrafficType_14', 'TrafficType_15',\n",
      "       'TrafficType_16', 'TrafficType_17', 'TrafficType_18', 'TrafficType_19',\n",
      "       'TrafficType_20', 'VisitorType_New_Visitor', 'VisitorType_Other',\n",
      "       'VisitorType_Returning_Visitor'],\n",
      "      dtype='object')\n"
     ]
    }
   ],
   "source": [
    "#One hot encoding\n",
    "df_enc = df.copy()\n",
    "\n",
    "for col in cat_name:\n",
    "    df_enc = pd.concat([df_enc.drop(col, axis = 1),pd.get_dummies(df_enc[col],prefix = col)],axis = 1)\n",
    "\n",
    "print(df_enc.columns)"
   ]
  },
  {
   "cell_type": "markdown",
   "metadata": {},
   "source": [
    "## Dealing with Non - Categorical Variables"
   ]
  },
  {
   "cell_type": "code",
   "execution_count": 7,
   "metadata": {},
   "outputs": [
    {
     "data": {
      "text/html": [
       "<div>\n",
       "<style scoped>\n",
       "    .dataframe tbody tr th:only-of-type {\n",
       "        vertical-align: middle;\n",
       "    }\n",
       "\n",
       "    .dataframe tbody tr th {\n",
       "        vertical-align: top;\n",
       "    }\n",
       "\n",
       "    .dataframe thead th {\n",
       "        text-align: right;\n",
       "    }\n",
       "</style>\n",
       "<table border=\"1\" class=\"dataframe\">\n",
       "  <thead>\n",
       "    <tr style=\"text-align: right;\">\n",
       "      <th></th>\n",
       "      <th>Administrative</th>\n",
       "      <th>Administrative_Duration</th>\n",
       "      <th>Informational</th>\n",
       "      <th>Informational_Duration</th>\n",
       "      <th>ProductRelated</th>\n",
       "      <th>ProductRelated_Duration</th>\n",
       "      <th>BounceRates</th>\n",
       "      <th>ExitRates</th>\n",
       "      <th>PageValues</th>\n",
       "      <th>SpecialDay</th>\n",
       "      <th>...</th>\n",
       "      <th>TrafficType_14</th>\n",
       "      <th>TrafficType_15</th>\n",
       "      <th>TrafficType_16</th>\n",
       "      <th>TrafficType_17</th>\n",
       "      <th>TrafficType_18</th>\n",
       "      <th>TrafficType_19</th>\n",
       "      <th>TrafficType_20</th>\n",
       "      <th>VisitorType_New_Visitor</th>\n",
       "      <th>VisitorType_Other</th>\n",
       "      <th>VisitorType_Returning_Visitor</th>\n",
       "    </tr>\n",
       "  </thead>\n",
       "  <tbody>\n",
       "    <tr>\n",
       "      <th>count</th>\n",
       "      <td>11233.000000</td>\n",
       "      <td>11233.000000</td>\n",
       "      <td>11233.000000</td>\n",
       "      <td>11233.000000</td>\n",
       "      <td>11233.000000</td>\n",
       "      <td>11233.000000</td>\n",
       "      <td>11233.000000</td>\n",
       "      <td>11233.000000</td>\n",
       "      <td>11233.000000</td>\n",
       "      <td>11233.000000</td>\n",
       "      <td>...</td>\n",
       "      <td>11233.000000</td>\n",
       "      <td>11233.000000</td>\n",
       "      <td>11233.000000</td>\n",
       "      <td>11233.000000</td>\n",
       "      <td>11233.000000</td>\n",
       "      <td>11233.000000</td>\n",
       "      <td>11233.000000</td>\n",
       "      <td>11233.000000</td>\n",
       "      <td>11233.000000</td>\n",
       "      <td>11233.000000</td>\n",
       "    </tr>\n",
       "    <tr>\n",
       "      <th>mean</th>\n",
       "      <td>2.046025</td>\n",
       "      <td>70.460222</td>\n",
       "      <td>0.396421</td>\n",
       "      <td>25.018867</td>\n",
       "      <td>23.305795</td>\n",
       "      <td>796.561459</td>\n",
       "      <td>0.021643</td>\n",
       "      <td>0.043278</td>\n",
       "      <td>5.846268</td>\n",
       "      <td>0.063402</td>\n",
       "      <td>...</td>\n",
       "      <td>0.000979</td>\n",
       "      <td>0.003116</td>\n",
       "      <td>0.000267</td>\n",
       "      <td>0.000089</td>\n",
       "      <td>0.000890</td>\n",
       "      <td>0.001424</td>\n",
       "      <td>0.016647</td>\n",
       "      <td>0.149025</td>\n",
       "      <td>0.006944</td>\n",
       "      <td>0.844031</td>\n",
       "    </tr>\n",
       "    <tr>\n",
       "      <th>std</th>\n",
       "      <td>2.949437</td>\n",
       "      <td>152.068255</td>\n",
       "      <td>1.044749</td>\n",
       "      <td>111.308646</td>\n",
       "      <td>23.061285</td>\n",
       "      <td>796.265484</td>\n",
       "      <td>0.047070</td>\n",
       "      <td>0.047630</td>\n",
       "      <td>18.724162</td>\n",
       "      <td>0.201350</td>\n",
       "      <td>...</td>\n",
       "      <td>0.031279</td>\n",
       "      <td>0.055735</td>\n",
       "      <td>0.016341</td>\n",
       "      <td>0.009435</td>\n",
       "      <td>0.029825</td>\n",
       "      <td>0.037716</td>\n",
       "      <td>0.127952</td>\n",
       "      <td>0.356129</td>\n",
       "      <td>0.083044</td>\n",
       "      <td>0.362842</td>\n",
       "    </tr>\n",
       "    <tr>\n",
       "      <th>min</th>\n",
       "      <td>0.000000</td>\n",
       "      <td>-1.000000</td>\n",
       "      <td>0.000000</td>\n",
       "      <td>-1.000000</td>\n",
       "      <td>0.000000</td>\n",
       "      <td>-1.000000</td>\n",
       "      <td>0.000000</td>\n",
       "      <td>0.000000</td>\n",
       "      <td>0.000000</td>\n",
       "      <td>0.000000</td>\n",
       "      <td>...</td>\n",
       "      <td>0.000000</td>\n",
       "      <td>0.000000</td>\n",
       "      <td>0.000000</td>\n",
       "      <td>0.000000</td>\n",
       "      <td>0.000000</td>\n",
       "      <td>0.000000</td>\n",
       "      <td>0.000000</td>\n",
       "      <td>0.000000</td>\n",
       "      <td>0.000000</td>\n",
       "      <td>0.000000</td>\n",
       "    </tr>\n",
       "    <tr>\n",
       "      <th>25%</th>\n",
       "      <td>0.000000</td>\n",
       "      <td>0.000000</td>\n",
       "      <td>0.000000</td>\n",
       "      <td>0.000000</td>\n",
       "      <td>7.000000</td>\n",
       "      <td>169.966667</td>\n",
       "      <td>0.000000</td>\n",
       "      <td>0.014286</td>\n",
       "      <td>0.000000</td>\n",
       "      <td>0.000000</td>\n",
       "      <td>...</td>\n",
       "      <td>0.000000</td>\n",
       "      <td>0.000000</td>\n",
       "      <td>0.000000</td>\n",
       "      <td>0.000000</td>\n",
       "      <td>0.000000</td>\n",
       "      <td>0.000000</td>\n",
       "      <td>0.000000</td>\n",
       "      <td>0.000000</td>\n",
       "      <td>0.000000</td>\n",
       "      <td>1.000000</td>\n",
       "    </tr>\n",
       "    <tr>\n",
       "      <th>50%</th>\n",
       "      <td>1.000000</td>\n",
       "      <td>3.000000</td>\n",
       "      <td>0.000000</td>\n",
       "      <td>0.000000</td>\n",
       "      <td>16.000000</td>\n",
       "      <td>528.196429</td>\n",
       "      <td>0.002222</td>\n",
       "      <td>0.026449</td>\n",
       "      <td>0.000000</td>\n",
       "      <td>0.000000</td>\n",
       "      <td>...</td>\n",
       "      <td>0.000000</td>\n",
       "      <td>0.000000</td>\n",
       "      <td>0.000000</td>\n",
       "      <td>0.000000</td>\n",
       "      <td>0.000000</td>\n",
       "      <td>0.000000</td>\n",
       "      <td>0.000000</td>\n",
       "      <td>0.000000</td>\n",
       "      <td>0.000000</td>\n",
       "      <td>1.000000</td>\n",
       "    </tr>\n",
       "    <tr>\n",
       "      <th>75%</th>\n",
       "      <td>3.000000</td>\n",
       "      <td>82.850000</td>\n",
       "      <td>0.000000</td>\n",
       "      <td>0.000000</td>\n",
       "      <td>32.000000</td>\n",
       "      <td>1202.750000</td>\n",
       "      <td>0.017857</td>\n",
       "      <td>0.050000</td>\n",
       "      <td>0.000000</td>\n",
       "      <td>0.000000</td>\n",
       "      <td>...</td>\n",
       "      <td>0.000000</td>\n",
       "      <td>0.000000</td>\n",
       "      <td>0.000000</td>\n",
       "      <td>0.000000</td>\n",
       "      <td>0.000000</td>\n",
       "      <td>0.000000</td>\n",
       "      <td>0.000000</td>\n",
       "      <td>0.000000</td>\n",
       "      <td>0.000000</td>\n",
       "      <td>1.000000</td>\n",
       "    </tr>\n",
       "    <tr>\n",
       "      <th>max</th>\n",
       "      <td>21.000000</td>\n",
       "      <td>2156.166667</td>\n",
       "      <td>10.000000</td>\n",
       "      <td>2252.033333</td>\n",
       "      <td>179.000000</td>\n",
       "      <td>3401.300000</td>\n",
       "      <td>0.200000</td>\n",
       "      <td>0.200000</td>\n",
       "      <td>361.763742</td>\n",
       "      <td>1.000000</td>\n",
       "      <td>...</td>\n",
       "      <td>1.000000</td>\n",
       "      <td>1.000000</td>\n",
       "      <td>1.000000</td>\n",
       "      <td>1.000000</td>\n",
       "      <td>1.000000</td>\n",
       "      <td>1.000000</td>\n",
       "      <td>1.000000</td>\n",
       "      <td>1.000000</td>\n",
       "      <td>1.000000</td>\n",
       "      <td>1.000000</td>\n",
       "    </tr>\n",
       "  </tbody>\n",
       "</table>\n",
       "<p>8 rows × 73 columns</p>\n",
       "</div>"
      ],
      "text/plain": [
       "       Administrative  Administrative_Duration  Informational  \\\n",
       "count    11233.000000             11233.000000   11233.000000   \n",
       "mean         2.046025                70.460222       0.396421   \n",
       "std          2.949437               152.068255       1.044749   \n",
       "min          0.000000                -1.000000       0.000000   \n",
       "25%          0.000000                 0.000000       0.000000   \n",
       "50%          1.000000                 3.000000       0.000000   \n",
       "75%          3.000000                82.850000       0.000000   \n",
       "max         21.000000              2156.166667      10.000000   \n",
       "\n",
       "       Informational_Duration  ProductRelated  ProductRelated_Duration  \\\n",
       "count            11233.000000    11233.000000             11233.000000   \n",
       "mean                25.018867       23.305795               796.561459   \n",
       "std                111.308646       23.061285               796.265484   \n",
       "min                 -1.000000        0.000000                -1.000000   \n",
       "25%                  0.000000        7.000000               169.966667   \n",
       "50%                  0.000000       16.000000               528.196429   \n",
       "75%                  0.000000       32.000000              1202.750000   \n",
       "max               2252.033333      179.000000              3401.300000   \n",
       "\n",
       "        BounceRates     ExitRates    PageValues    SpecialDay  ...  \\\n",
       "count  11233.000000  11233.000000  11233.000000  11233.000000  ...   \n",
       "mean       0.021643      0.043278      5.846268      0.063402  ...   \n",
       "std        0.047070      0.047630     18.724162      0.201350  ...   \n",
       "min        0.000000      0.000000      0.000000      0.000000  ...   \n",
       "25%        0.000000      0.014286      0.000000      0.000000  ...   \n",
       "50%        0.002222      0.026449      0.000000      0.000000  ...   \n",
       "75%        0.017857      0.050000      0.000000      0.000000  ...   \n",
       "max        0.200000      0.200000    361.763742      1.000000  ...   \n",
       "\n",
       "       TrafficType_14  TrafficType_15  TrafficType_16  TrafficType_17  \\\n",
       "count    11233.000000    11233.000000    11233.000000    11233.000000   \n",
       "mean         0.000979        0.003116        0.000267        0.000089   \n",
       "std          0.031279        0.055735        0.016341        0.009435   \n",
       "min          0.000000        0.000000        0.000000        0.000000   \n",
       "25%          0.000000        0.000000        0.000000        0.000000   \n",
       "50%          0.000000        0.000000        0.000000        0.000000   \n",
       "75%          0.000000        0.000000        0.000000        0.000000   \n",
       "max          1.000000        1.000000        1.000000        1.000000   \n",
       "\n",
       "       TrafficType_18  TrafficType_19  TrafficType_20  \\\n",
       "count    11233.000000    11233.000000    11233.000000   \n",
       "mean         0.000890        0.001424        0.016647   \n",
       "std          0.029825        0.037716        0.127952   \n",
       "min          0.000000        0.000000        0.000000   \n",
       "25%          0.000000        0.000000        0.000000   \n",
       "50%          0.000000        0.000000        0.000000   \n",
       "75%          0.000000        0.000000        0.000000   \n",
       "max          1.000000        1.000000        1.000000   \n",
       "\n",
       "       VisitorType_New_Visitor  VisitorType_Other  \\\n",
       "count             11233.000000       11233.000000   \n",
       "mean                  0.149025           0.006944   \n",
       "std                   0.356129           0.083044   \n",
       "min                   0.000000           0.000000   \n",
       "25%                   0.000000           0.000000   \n",
       "50%                   0.000000           0.000000   \n",
       "75%                   0.000000           0.000000   \n",
       "max                   1.000000           1.000000   \n",
       "\n",
       "       VisitorType_Returning_Visitor  \n",
       "count                   11233.000000  \n",
       "mean                        0.844031  \n",
       "std                         0.362842  \n",
       "min                         0.000000  \n",
       "25%                         1.000000  \n",
       "50%                         1.000000  \n",
       "75%                         1.000000  \n",
       "max                         1.000000  \n",
       "\n",
       "[8 rows x 73 columns]"
      ]
     },
     "execution_count": 7,
     "metadata": {},
     "output_type": "execute_result"
    }
   ],
   "source": [
    "df_enc.describe()"
   ]
  },
  {
   "cell_type": "code",
   "execution_count": 8,
   "metadata": {},
   "outputs": [],
   "source": [
    "non_cat_name = ['Administrative', 'Administrative_Duration', 'Informational','Informational_Duration', 'ProductRelated', \n",
    "                'ProductRelated_Duration','BounceRates', 'ExitRates', 'PageValues', 'SpecialDay']"
   ]
  },
  {
   "cell_type": "code",
   "execution_count": 9,
   "metadata": {},
   "outputs": [
    {
     "data": {
      "image/png": "[encoded data removed]",
      "text/plain": [
       "<Figure size 1080x720 with 12 Axes>"
      ]
     },
     "metadata": {
      "needs_background": "light"
     },
     "output_type": "display_data"
    }
   ],
   "source": [
    "df_enc[non_cat_name].hist(figsize = (15,10))\n",
    "plt.show()"
   ]
  },
  {
   "cell_type": "markdown",
   "metadata": {},
   "source": [
    "## Standardization"
   ]
  },
  {
   "cell_type": "code",
   "execution_count": 10,
   "metadata": {},
   "outputs": [],
   "source": [
    "scaler = StandardScaler()\n",
    "df_enc[non_cat_name] = scaler.fit_transform(df_enc[non_cat_name])"
   ]
  },
  {
   "cell_type": "code",
   "execution_count": 11,
   "metadata": {
    "scrolled": true
   },
   "outputs": [
    {
     "data": {
      "image/png": "[encoded data removed]",
      "text/plain": [
       "<Figure size 1080x720 with 12 Axes>"
      ]
     },
     "metadata": {
      "needs_background": "light"
     },
     "output_type": "display_data"
    }
   ],
   "source": [
    "df_enc[non_cat_name].hist(figsize = (15,10))\n",
    "plt.show()"
   ]
  },
  {
   "cell_type": "markdown",
   "metadata": {},
   "source": [
    "## Modelling\n",
    "This is the fifth step in the Data Science Method. In this exercise, build models\n",
    "**The Data Science Method**  \n",
    "\n",
    "\n",
    "1.   Problem Identification \n",
    "\n",
    "2.   Data Wrangling \n",
    "  * Data Collection \n",
    "   * Data Organization\n",
    "  * Data Definition \n",
    "  * Data Cleaning\n",
    "  * Outliers\n",
    " \n",
    "3.   Exploratory Data Analysis \n",
    " * Build data profile tables and plots\n",
    "        - Outliers & Anomalies\n",
    " * Explore data relationships\n",
    " * Identification and creation of features\n",
    "\n",
    "4.   Pre-processing and Training Data Development\n",
    "  * Create dummy or indicator features for categorical variables\n",
    "  * Standardize the magnitude of numeric features\n",
    "  * Split into testing and training datasets\n",
    "  * Apply scaler to the testing set\n",
    "5.  **Modeling**\n",
    "  * Fit Models with Training Data Set\n",
    "  * Review Model Outcomes — Iterate over additional models as needed.\n",
    "  * Identify the Final Model\n",
    "\n",
    "6.   Documentation\n",
    "  * Review the Results\n",
    "  * Present and share your findings - storytelling\n",
    "  * Finalize Code \n",
    "  * Finalize Documentation"
   ]
  },
  {
   "cell_type": "markdown",
   "metadata": {},
   "source": [
    "## Statistical Test -- Feature Selection"
   ]
  },
  {
   "cell_type": "code",
   "execution_count": 12,
   "metadata": {},
   "outputs": [],
   "source": [
    "from sklearn.feature_selection import SelectKBest, f_classif\n",
    "\n",
    "n = 15\n",
    "X = df_enc.drop(['Revenue'],axis=1)\n",
    "y = df_enc['Revenue']\n",
    "X_new = SelectKBest(f_classif, k=n).fit_transform(X, y)"
   ]
  },
  {
   "cell_type": "code",
   "execution_count": 13,
   "metadata": {},
   "outputs": [
    {
     "data": {
      "text/plain": [
       "array([[-0.6937309935130965, -0.9672829616508918, -1.000416235353502,\n",
       "        ..., 0, 0, 1],\n",
       "       [-0.6937309935130965, -0.9239183138875748, -0.9200374543440761,\n",
       "        ..., 1, 0, 1],\n",
       "       [-0.6937309935130965, -0.9672829616508918, -1.0016721538067743,\n",
       "        ..., 0, 0, 1],\n",
       "       ...,\n",
       "       [-0.6937309935130965, -0.7504597228343068, -0.7690132603380848,\n",
       "        ..., 0, 0, 1],\n",
       "       [0.6625201921689491, -0.36017789296445396, -0.5658684505212939,\n",
       "        ..., 0, 0, 1],\n",
       "       [-0.6937309935130965, -0.8805536661242578, -0.973727968221466,\n",
       "        ..., 1, 1, 0]], dtype=object)"
      ]
     },
     "execution_count": 13,
     "metadata": {},
     "output_type": "execute_result"
    }
   ],
   "source": [
    "X_new"
   ]
  },
  {
   "cell_type": "markdown",
   "metadata": {},
   "source": [
    "## Creating Train and Validation set"
   ]
  },
  {
   "cell_type": "code",
   "execution_count": 14,
   "metadata": {},
   "outputs": [],
   "source": [
    "X_ss, X_val, y_ss, y_val  = train_test_split(X_new, y, test_size=0.15, random_state=43,shuffle = True)\n",
    "X_train, X_test, y_train, y_test  = train_test_split(X_ss, y_ss, test_size=0.15, random_state=43,shuffle = True)"
   ]
  },
  {
   "cell_type": "markdown",
   "metadata": {},
   "source": [
    "## Modeling\n",
    "\n",
    "Methods used to deal with imbalance in data set:\n",
    "\n",
    "1. Adding class-weight\n",
    "2. Under Samoling using RandomSampling\n",
    "3. Over Sampling using SMOTE\n",
    "\n",
    "Tried all this methods to pick optimal model"
   ]
  },
  {
   "cell_type": "code",
   "execution_count": 15,
   "metadata": {},
   "outputs": [],
   "source": [
    "from imblearn.under_sampling import RandomUnderSampler \n",
    "from imblearn.over_sampling import SMOTE\n",
    "from sklearn.model_selection import StratifiedKFold\n",
    "from sklearn.metrics import f1_score\n",
    "from statistics import *\n",
    "\n",
    "rus = RandomUnderSampler(random_state=42)\n",
    "sm = SMOTE(random_state=27, sampling_strategy=1.0)\n",
    "\n",
    "\n",
    "def cross_val(model,X,y,flag = 0):\n",
    "    ''' Normal, flag = 0, Undersampling, flag = -1, Oversampling, flag = 1''' \n",
    "    \n",
    "    f1_scr = []\n",
    "    \n",
    "    skf = StratifiedKFold(n_splits=5, random_state=None,shuffle = True)\n",
    "    for train, test in skf.split(X,y): ## you must do this on full dataset \n",
    "        X_train, X_test, y_train, y_test  = train_test_split(X, y, test_size=0.3, random_state=43,shuffle = True)\n",
    "\n",
    "        if flag == -1: #Undersampling\n",
    "            X_tr, y_tr = rus.fit_resample(X_train, y_train)\n",
    "\n",
    "        elif flag == 1: #Oversampling\n",
    "            X_tr, y_tr = sm.fit_resample(X_train, y_train)\n",
    "\n",
    "        else:\n",
    "            X_tr = X_train\n",
    "            y_tr = y_train\n",
    "\n",
    "        model.fit(X_tr, y_tr)\n",
    "        y_pred = model.predict(X_test)\n",
    "        f1 = f1_score(y_test, y_pred)\n",
    "        f1_scr.append(f1)\n",
    "    print('F1 Score',mean(f1_scr))\n",
    "                    \n",
    "    return model"
   ]
  },
  {
   "cell_type": "code",
   "execution_count": 16,
   "metadata": {},
   "outputs": [
    {
     "name": "stdout",
     "output_type": "stream",
     "text": [
      "[False  True] [0.58354724 3.49231895]\n"
     ]
    },
    {
     "name": "stderr",
     "output_type": "stream",
     "text": [
      "C:\\Users\\sanja\\anaconda3\\lib\\site-packages\\sklearn\\utils\\validation.py:70: FutureWarning: Pass classes=[False  True], y=3418     False\n",
      "4435     False\n",
      "4670     False\n",
      "8238     False\n",
      "1218     False\n",
      "         ...  \n",
      "2064     False\n",
      "10517    False\n",
      "7985     False\n",
      "2303     False\n",
      "3392     False\n",
      "Name: Revenue, Length: 9548, dtype: bool as keyword args. From version 0.25 passing these as positional arguments will result in an error\n",
      "  FutureWarning)\n"
     ]
    }
   ],
   "source": [
    "from sklearn.utils.class_weight import compute_class_weight\n",
    "weights = compute_class_weight('balanced', np.unique(y_ss), y_ss)\n",
    "print(np.unique(y_ss),weights)"
   ]
  },
  {
   "cell_type": "code",
   "execution_count": 17,
   "metadata": {},
   "outputs": [
    {
     "name": "stdout",
     "output_type": "stream",
     "text": [
      "Normal\n",
      "F1 Score 0.6408730158730158\n",
      "Under Sample\n",
      "F1 Score 0.6422200198216056\n",
      "Over Sample\n",
      "F1 Score 0.6363636363636364\n"
     ]
    }
   ],
   "source": [
    "from sklearn.linear_model import LogisticRegression\n",
    "\n",
    "logreg = LogisticRegression(max_iter = 1000,class_weight={True:3.5,False:0.6})\n",
    "print('Normal')\n",
    "logreg_nfs = cross_val(logreg,X_ss,y_ss,0)\n",
    "#logreg_fs = cross_val(logreg,X_fs.drop('BounceRates',axis = 1),y_ss,0)\n",
    "\n",
    "logreg = LogisticRegression(max_iter = 1000)\n",
    "print('Under Sample')\n",
    "logreg_nfs_ds = cross_val(logreg,X_ss,y_ss,-1)\n",
    "#logreg_fs_ds = cross_val(logreg,X_fs.drop('BounceRates',axis = 1),y_ss,-1)\n",
    "print('Over Sample')\n",
    "\n",
    "logreg_nfs_us = cross_val(logreg,X_ss,y_ss,1)\n",
    "#logreg_fs_us = cross_val(logreg,X_fs.drop('BounceRates',axis = 1),y_ss,1)"
   ]
  },
  {
   "cell_type": "code",
   "execution_count": 18,
   "metadata": {},
   "outputs": [
    {
     "name": "stdout",
     "output_type": "stream",
     "text": [
      "Normal\n",
      "F1 Score 0.5715692248356847\n",
      "Under Sample\n",
      "F1 Score 0.5150173927288245\n",
      "Over Sample\n",
      "F1 Score 0.5837021718641029\n"
     ]
    }
   ],
   "source": [
    "from sklearn import tree\n",
    "\n",
    "clf = tree.DecisionTreeClassifier(class_weight={True:3.5,False:0.6})\n",
    "print('Normal')\n",
    "clf_nfs = cross_val(clf,X_ss,y_ss,0)\n",
    "#clf_fs = cross_val(clf,X_fs,y_ss,0)\n",
    "\n",
    "clf = tree.DecisionTreeClassifier()\n",
    "print('Under Sample')\n",
    "clf_nfs_ds = cross_val(clf,X_ss,y_ss,-1)\n",
    "#clf_fs_ds = cross_val(clf,X_fs,y_ss,-1)\n",
    "print('Over Sample')\n",
    "clf_nfs_us = cross_val(clf,X_ss,y_ss,1)\n",
    "#clf_fs_us = cross_val(clf,X_fs,y_ss,1)"
   ]
  },
  {
   "cell_type": "code",
   "execution_count": 19,
   "metadata": {
    "scrolled": true
   },
   "outputs": [
    {
     "name": "stdout",
     "output_type": "stream",
     "text": [
      "Normal\n",
      "F1 Score 0.6587404484782511\n",
      "Under Sample\n",
      "F1 Score 0.642373963975053\n",
      "Over Sample\n",
      "F1 Score 0.6760077219093493\n"
     ]
    }
   ],
   "source": [
    "from sklearn.ensemble import RandomForestClassifier\n",
    "\n",
    "rfc = RandomForestClassifier(class_weight={True:3.6,False:0.6})\n",
    "print('Normal')\n",
    "rfc_nfs = cross_val(rfc,X_ss,y_ss,0)\n",
    "#rfc_fs = cross_val(rfc,X_fs,y_ss,0)\n",
    "\n",
    "rfc = RandomForestClassifier()\n",
    "print('Under Sample')\n",
    "rfc_nfs_ds = cross_val(rfc,X_ss,y_ss,-1)\n",
    "#rfc_fs_ds = cross_val(rfc,X_fs,y_ss,-1)\n",
    "print('Over Sample')\n",
    "rfc_nfs_us = cross_val(rfc,X_ss,y_ss,1)\n",
    "#rfc_fs_us = cross_val(rfc,X_fs,y_ss,1)"
   ]
  },
  {
   "cell_type": "code",
   "execution_count": 20,
   "metadata": {
    "scrolled": true
   },
   "outputs": [
    {
     "name": "stdout",
     "output_type": "stream",
     "text": [
      "Normal\n",
      "F1 Score 0.6469344608879493\n",
      "Under Sample\n",
      "F1 Score 0.6093064091308165\n",
      "Over Sample\n",
      "F1 Score 0.6573751451800233\n"
     ]
    }
   ],
   "source": [
    "from xgboost import XGBClassifier\n",
    "\n",
    "gbc = XGBClassifier(scale_pos_weight=17)\n",
    "print('Normal')\n",
    "gbc_nfs = cross_val(gbc,X_ss,y_ss,0)\n",
    "#gbc_fs = cross_val(gbc,X_fs,y_ss,0)\n",
    "\n",
    "gbc = XGBClassifier()\n",
    "print('Under Sample')\n",
    "gbc_nfs_ds = cross_val(gbc,X_ss,y_ss,-1)\n",
    "#gbc_fs_ds = cross_val(gbc,X_fs,y_ss,-1)\n",
    "\n",
    "print('Over Sample')\n",
    "gbc_nfs_us = cross_val(gbc,X_ss,y_ss,1)\n",
    "#gbc_fs_us = cross_val(gbc,X_fs,y_ss,1)"
   ]
  },
  {
   "cell_type": "code",
   "execution_count": 21,
   "metadata": {
    "scrolled": true
   },
   "outputs": [
    {
     "name": "stdout",
     "output_type": "stream",
     "text": [
      "Normal\n",
      "F1 Score 0.6666666666666667\n",
      "Under Sample\n",
      "F1 Score 0.6579212916246217\n",
      "Over Sample\n",
      "F1 Score 0.6720812182741117\n"
     ]
    }
   ],
   "source": [
    "from sklearn.svm import SVC\n",
    "\n",
    "svc = SVC(class_weight={True:3.5,False:0.6})\n",
    "print('Normal')\n",
    "svc_nfs = cross_val(svc,X_ss,y_ss,0)\n",
    "#svc_fs = cross_val(svc,X_fs,y_ss,0)\n",
    "\n",
    "svc = SVC()\n",
    "print('Under Sample')\n",
    "svc_nfs_ds = cross_val(svc,X_ss,y_ss,-1)\n",
    "#svc_fs_ds = cross_val(svc,X_fs,y_ss,-1)\n",
    "print('Over Sample')\n",
    "svc_nfs_us = cross_val(svc,X_ss,y_ss,1)\n",
    "#svc_fs_us = cross_val(svc,X_fs,y_ss,1)"
   ]
  },
  {
   "cell_type": "markdown",
   "metadata": {},
   "source": [
    "UnderSampling hasn't improved model performance.\n",
    "\n",
    "RandomForest performs well with oversampling using SMOTE. RandomForest, with feature selection performed well.\n",
    "\n",
    "XGBoost with oversampling using SMOTE looks promising."
   ]
  },
  {
   "cell_type": "code",
   "execution_count": 25,
   "metadata": {},
   "outputs": [],
   "source": [
    "def plot_features(model,feature_list = range(n)):\n",
    "    feature_importance = pd.DataFrame()\n",
    "    feature_importance['Features'] = feature_list\n",
    "    feature_importance['Feature_Importance'] = model.feature_importances_\n",
    "    feature_importance.sort_values(by = 'Feature_Importance',ascending = False,inplace = True)\n",
    "    feature_importance['Cumulative_Importances'] = np.cumsum(feature_importance['Feature_Importance'])\n",
    "\n",
    "    plt.figure(figsize = [25,10])\n",
    "    plt.bar(range(len(feature_list)), feature_importance['Feature_Importance'])\n",
    "    nm = 'Feature Importance'\n",
    "    plt.savefig(str(path+'figure/'+nm))\n",
    "    plt.show()\n",
    "\n",
    "    plt.figure(figsize = [25,10])\n",
    "    plt.plot(feature_importance['Cumulative_Importances'].values, 'g-')\n",
    "    plt.xticks(range(len(feature_importance['Features'])),feature_importance['Features'],rotation = 'vertical')\n",
    "    plt.hlines(y = 0.95, xmin=0, xmax=len(feature_importance['Feature_Importance']), color = 'r', linestyles = 'dashed')\n",
    "    nm = 'Cumilative Frequency'\n",
    "    plt.savefig(str(path+'figure/'+nm))\n",
    "    plt.show()\n",
    "    \n",
    "    return feature_importance"
   ]
  },
  {
   "cell_type": "code",
   "execution_count": 26,
   "metadata": {},
   "outputs": [],
   "source": [
    "from sklearn import metrics\n",
    "\n",
    "def pred(model,X,y):\n",
    "    y_pred = model.predict(X)\n",
    "    f1 = f1_score(y, y_pred)\n",
    "    print(f1)\n",
    "    print(metrics.confusion_matrix(y, y_pred))\n",
    "    print(metrics.classification_report(y, y_pred))"
   ]
  },
  {
   "cell_type": "markdown",
   "metadata": {},
   "source": [
    "#### Using Decision Tree for Feature Importance"
   ]
  },
  {
   "cell_type": "code",
   "execution_count": 27,
   "metadata": {
    "scrolled": true
   },
   "outputs": [
    {
     "name": "stdout",
     "output_type": "stream",
     "text": [
      "F1 Score 0.5865074259215904\n"
     ]
    },
    {
     "data": {
      "image/png": "[encoded data removed]",
      "text/plain": [
       "<Figure size 1800x720 with 1 Axes>"
      ]
     },
     "metadata": {
      "needs_background": "light"
     },
     "output_type": "display_data"
    },
    {
     "data": {
      "image/png": "[encoded data removed]",
      "text/plain": [
       "<Figure size 1800x720 with 1 Axes>"
      ]
     },
     "metadata": {
      "needs_background": "light"
     },
     "output_type": "display_data"
    }
   ],
   "source": [
    "clf_nfs_us = cross_val(clf,X_ss,y_ss,1)\n",
    "feature_importance = plot_features(clf_nfs_us)"
   ]
  },
  {
   "cell_type": "code",
   "execution_count": 28,
   "metadata": {
    "scrolled": true
   },
   "outputs": [
    {
     "data": {
      "text/html": [
       "<div>\n",
       "<style scoped>\n",
       "    .dataframe tbody tr th:only-of-type {\n",
       "        vertical-align: middle;\n",
       "    }\n",
       "\n",
       "    .dataframe tbody tr th {\n",
       "        vertical-align: top;\n",
       "    }\n",
       "\n",
       "    .dataframe thead th {\n",
       "        text-align: right;\n",
       "    }\n",
       "</style>\n",
       "<table border=\"1\" class=\"dataframe\">\n",
       "  <thead>\n",
       "    <tr style=\"text-align: right;\">\n",
       "      <th></th>\n",
       "      <th>Features</th>\n",
       "      <th>Feature_Importance</th>\n",
       "      <th>Cumulative_Importances</th>\n",
       "    </tr>\n",
       "  </thead>\n",
       "  <tbody>\n",
       "    <tr>\n",
       "      <th>6</th>\n",
       "      <td>6</td>\n",
       "      <td>0.042468</td>\n",
       "      <td>0.974463</td>\n",
       "    </tr>\n",
       "    <tr>\n",
       "      <th>7</th>\n",
       "      <td>7</td>\n",
       "      <td>0.016532</td>\n",
       "      <td>0.990995</td>\n",
       "    </tr>\n",
       "    <tr>\n",
       "      <th>8</th>\n",
       "      <td>8</td>\n",
       "      <td>0.006648</td>\n",
       "      <td>0.997643</td>\n",
       "    </tr>\n",
       "    <tr>\n",
       "      <th>9</th>\n",
       "      <td>9</td>\n",
       "      <td>0.002357</td>\n",
       "      <td>1.000000</td>\n",
       "    </tr>\n",
       "  </tbody>\n",
       "</table>\n",
       "</div>"
      ],
      "text/plain": [
       "   Features  Feature_Importance  Cumulative_Importances\n",
       "6         6            0.042468                0.974463\n",
       "7         7            0.016532                0.990995\n",
       "8         8            0.006648                0.997643\n",
       "9         9            0.002357                1.000000"
      ]
     },
     "execution_count": 28,
     "metadata": {},
     "output_type": "execute_result"
    }
   ],
   "source": [
    "feature_importance[feature_importance['Cumulative_Importances'] > 0.95]"
   ]
  },
  {
   "cell_type": "markdown",
   "metadata": {},
   "source": [
    "Updating features based on feature importance"
   ]
  },
  {
   "cell_type": "code",
   "execution_count": 29,
   "metadata": {},
   "outputs": [
    {
     "name": "stdout",
     "output_type": "stream",
     "text": [
      "F1 Score 0.7005286072964497\n"
     ]
    },
    {
     "data": {
      "image/png": "[encoded data removed]",
      "text/plain": [
       "<Figure size 432x288 with 1 Axes>"
      ]
     },
     "metadata": {
      "needs_background": "light"
     },
     "output_type": "display_data"
    }
   ],
   "source": [
    "from sklearn.metrics import plot_roc_curve\n",
    "\n",
    "#Random Forest -- with oversampling and no feature selection\n",
    "rfc_nfs_us_1 = cross_val(rfc,X_train, y_train,1)\n",
    "#feature_importance = plot_features(rfc_nfs_us_1,X_test.columns)\n",
    "\n",
    "ax = plt.gca()\n",
    "rfc_disp_1 = plot_roc_curve(rfc_nfs_us_1, X_test, y_test, ax=ax, alpha=0.8,name = 'Oversampling and no feature selection')"
   ]
  },
  {
   "cell_type": "code",
   "execution_count": 30,
   "metadata": {},
   "outputs": [
    {
     "name": "stdout",
     "output_type": "stream",
     "text": [
      "{'n_estimators': [200, 288, 377, 466, 555, 644, 733, 822, 911, 1000], 'max_features': ['auto', 'sqrt'], 'max_depth': [2, 6, 10, None], 'min_samples_split': [2, 5, 10], 'min_samples_leaf': [1, 2, 4], 'bootstrap': [True, False]}\n"
     ]
    }
   ],
   "source": [
    "from sklearn.model_selection import RandomizedSearchCV\n",
    "\n",
    "# Number of trees in random forest\n",
    "n_estimators = [int(x) for x in np.linspace(start = 200, stop = 1000, num = 10)]\n",
    "# Number of features to consider at every split\n",
    "max_features = ['auto', 'sqrt']\n",
    "# Maximum number of levels in tree\n",
    "max_depth = [int(x) for x in np.linspace(2, 10, num = 3)]\n",
    "max_depth.append(None)\n",
    "# Minimum number of samples required to split a node\n",
    "min_samples_split = [2, 5, 10]\n",
    "# Minimum number of samples required at each leaf node\n",
    "min_samples_leaf = [1, 2, 4]\n",
    "# Method of selecting samples for training each tree\n",
    "bootstrap = [True, False]\n",
    "# Create the random grid\n",
    "random_grid = {'n_estimators': n_estimators,\n",
    "               'max_features': max_features,\n",
    "               'max_depth': max_depth,\n",
    "               'min_samples_split': min_samples_split,\n",
    "               'min_samples_leaf': min_samples_leaf,\n",
    "               'bootstrap': bootstrap}\n",
    "print(random_grid)"
   ]
  },
  {
   "cell_type": "code",
   "execution_count": 31,
   "metadata": {},
   "outputs": [
    {
     "name": "stdout",
     "output_type": "stream",
     "text": [
      "Fitting 3 folds for each of 100 candidates, totalling 300 fits\n"
     ]
    },
    {
     "name": "stderr",
     "output_type": "stream",
     "text": [
      "[Parallel(n_jobs=-1)]: Using backend LokyBackend with 4 concurrent workers.\n",
      "[Parallel(n_jobs=-1)]: Done  33 tasks      | elapsed:  3.6min\n",
      "[Parallel(n_jobs=-1)]: Done 154 tasks      | elapsed: 12.5min\n",
      "[Parallel(n_jobs=-1)]: Done 300 out of 300 | elapsed: 24.9min finished\n"
     ]
    },
    {
     "data": {
      "text/plain": [
       "RandomizedSearchCV(cv=3, estimator=RandomForestClassifier(), n_iter=100,\n",
       "                   n_jobs=-1,\n",
       "                   param_distributions={'bootstrap': [True, False],\n",
       "                                        'max_depth': [2, 6, 10, None],\n",
       "                                        'max_features': ['auto', 'sqrt'],\n",
       "                                        'min_samples_leaf': [1, 2, 4],\n",
       "                                        'min_samples_split': [2, 5, 10],\n",
       "                                        'n_estimators': [200, 288, 377, 466,\n",
       "                                                         555, 644, 733, 822,\n",
       "                                                         911, 1000]},\n",
       "                   random_state=42, scoring='f1', verbose=2)"
      ]
     },
     "execution_count": 31,
     "metadata": {},
     "output_type": "execute_result"
    }
   ],
   "source": [
    "#RandomForest hyperparameter tuning without feature selection\n",
    "\n",
    "rfc = RandomForestClassifier()\n",
    "X_tr, y_tr = sm.fit_resample(X_ss, y_ss)\n",
    "\n",
    "rf_random = RandomizedSearchCV(estimator = rfc, param_distributions = random_grid, n_iter = 100, cv = 3, verbose=2, random_state=42, n_jobs = -1, scoring = 'f1')\n",
    "rf_random.fit(X_tr, y_tr)"
   ]
  },
  {
   "cell_type": "code",
   "execution_count": 32,
   "metadata": {},
   "outputs": [
    {
     "data": {
      "text/plain": [
       "{'n_estimators': 200,\n",
       " 'min_samples_split': 5,\n",
       " 'min_samples_leaf': 1,\n",
       " 'max_features': 'auto',\n",
       " 'max_depth': None,\n",
       " 'bootstrap': False}"
      ]
     },
     "execution_count": 32,
     "metadata": {},
     "output_type": "execute_result"
    }
   ],
   "source": [
    "rf_random.best_params_"
   ]
  },
  {
   "cell_type": "code",
   "execution_count": 33,
   "metadata": {},
   "outputs": [
    {
     "name": "stdout",
     "output_type": "stream",
     "text": [
      "0.6905660377358491\n",
      "[[1338   99]\n",
      " [  65  183]]\n",
      "              precision    recall  f1-score   support\n",
      "\n",
      "       False       0.95      0.93      0.94      1437\n",
      "        True       0.65      0.74      0.69       248\n",
      "\n",
      "    accuracy                           0.90      1685\n",
      "   macro avg       0.80      0.83      0.82      1685\n",
      "weighted avg       0.91      0.90      0.91      1685\n",
      "\n"
     ]
    }
   ],
   "source": [
    "pred(rf_random,X_val,y_val)"
   ]
  },
  {
   "cell_type": "markdown",
   "metadata": {},
   "source": [
    "Random Forest, with Over-Sampling using SMOTE has the highest F1 score, and bucketing categories. \n",
    "\n",
    "* __PageValues__ has the highest feature importance, ie. the pages visited by customer the most, popular product pages.\n",
    "* __Month:__ May, Nov, March, Dec, Sep and July, are key months. Something also observed in EDA step.\n",
    "* __ProductRelated_Duration and ProductRelated__, combined have a greater importance in the model.\n",
    "* __Administrative and Administrative_Duration__,have higher presdence over __Informational and Informational_Duration__.\n",
    "* __Returning Visitor__ has higher importance than __New Visitor__, a loyalty program might boost sales.\n",
    "* __Exit Rates__ and __Bounce Rates__ also, help determine visitor loyalty."
   ]
  }
 ],
 "metadata": {
  "kernelspec": {
   "display_name": "Python 3",
   "language": "python",
   "name": "python3"
  },
  "language_info": {
   "codemirror_mode": {
    "name": "ipython",
    "version": 3
   },
   "file_extension": ".py",
   "mimetype": "text/x-python",
   "name": "python",
   "nbconvert_exporter": "python",
   "pygments_lexer": "ipython3",
   "version": "3.7.9"
  }
 },
 "nbformat": 4,
 "nbformat_minor": 4
}
